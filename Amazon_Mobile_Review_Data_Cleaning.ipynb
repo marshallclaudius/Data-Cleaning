{
 "cells": [
  {
   "cell_type": "code",
   "execution_count": 2,
   "metadata": {},
   "outputs": [],
   "source": [
    "import pandas as pd\n",
    "import numpy as np\n",
    "import re\n",
    "import string"
   ]
  },
  {
   "cell_type": "code",
   "execution_count": 3,
   "metadata": {},
   "outputs": [],
   "source": [
    "df =  pd.read_csv('Amazon_Unlocked_Mobile.csv')"
   ]
  },
  {
   "cell_type": "code",
   "execution_count": 4,
   "metadata": {},
   "outputs": [
    {
     "data": {
      "text/html": [
       "<div>\n",
       "<style scoped>\n",
       "    .dataframe tbody tr th:only-of-type {\n",
       "        vertical-align: middle;\n",
       "    }\n",
       "\n",
       "    .dataframe tbody tr th {\n",
       "        vertical-align: top;\n",
       "    }\n",
       "\n",
       "    .dataframe thead th {\n",
       "        text-align: right;\n",
       "    }\n",
       "</style>\n",
       "<table border=\"1\" class=\"dataframe\">\n",
       "  <thead>\n",
       "    <tr style=\"text-align: right;\">\n",
       "      <th></th>\n",
       "      <th>Unnamed: 0</th>\n",
       "      <th>Reviews</th>\n",
       "      <th>Rating</th>\n",
       "      <th>cleanedtext</th>\n",
       "    </tr>\n",
       "  </thead>\n",
       "  <tbody>\n",
       "    <tr>\n",
       "      <th>0</th>\n",
       "      <td>0</td>\n",
       "      <td>I feel so LUCKY to have found this used (phone...</td>\n",
       "      <td>5</td>\n",
       "      <td>i feel so lucky to have found this used phone ...</td>\n",
       "    </tr>\n",
       "    <tr>\n",
       "      <th>1</th>\n",
       "      <td>1</td>\n",
       "      <td>nice phone, nice up grade from my pantach revu...</td>\n",
       "      <td>4</td>\n",
       "      <td>nice phone nice up grade from my pantach revue...</td>\n",
       "    </tr>\n",
       "    <tr>\n",
       "      <th>2</th>\n",
       "      <td>2</td>\n",
       "      <td>Very pleased</td>\n",
       "      <td>5</td>\n",
       "      <td>very pleased</td>\n",
       "    </tr>\n",
       "    <tr>\n",
       "      <th>3</th>\n",
       "      <td>3</td>\n",
       "      <td>It works good but it goes slow sometimes but i...</td>\n",
       "      <td>4</td>\n",
       "      <td>it works good but it goes slow sometimes but i...</td>\n",
       "    </tr>\n",
       "    <tr>\n",
       "      <th>4</th>\n",
       "      <td>4</td>\n",
       "      <td>Great phone to replace my lost phone. The only...</td>\n",
       "      <td>4</td>\n",
       "      <td>great phone to replace my lost phone the only ...</td>\n",
       "    </tr>\n",
       "  </tbody>\n",
       "</table>\n",
       "</div>"
      ],
      "text/plain": [
       "   Unnamed: 0                                            Reviews  Rating  \\\n",
       "0           0  I feel so LUCKY to have found this used (phone...       5   \n",
       "1           1  nice phone, nice up grade from my pantach revu...       4   \n",
       "2           2                                       Very pleased       5   \n",
       "3           3  It works good but it goes slow sometimes but i...       4   \n",
       "4           4  Great phone to replace my lost phone. The only...       4   \n",
       "\n",
       "                                         cleanedtext  \n",
       "0  i feel so lucky to have found this used phone ...  \n",
       "1  nice phone nice up grade from my pantach revue...  \n",
       "2                                       very pleased  \n",
       "3  it works good but it goes slow sometimes but i...  \n",
       "4  great phone to replace my lost phone the only ...  "
      ]
     },
     "execution_count": 4,
     "metadata": {},
     "output_type": "execute_result"
    }
   ],
   "source": [
    "df.head()"
   ]
  },
  {
   "cell_type": "code",
   "execution_count": 5,
   "metadata": {},
   "outputs": [
    {
     "name": "stdout",
     "output_type": "stream",
     "text": [
      "<class 'pandas.core.frame.DataFrame'>\n",
      "RangeIndex: 382075 entries, 0 to 382074\n",
      "Data columns (total 4 columns):\n",
      " #   Column       Non-Null Count   Dtype \n",
      "---  ------       --------------   ----- \n",
      " 0   Unnamed: 0   382075 non-null  int64 \n",
      " 1   Reviews      382015 non-null  object\n",
      " 2   Rating       382075 non-null  int64 \n",
      " 3   cleanedtext  381512 non-null  object\n",
      "dtypes: int64(2), object(2)\n",
      "memory usage: 11.7+ MB\n"
     ]
    }
   ],
   "source": [
    "df.info()"
   ]
  },
  {
   "cell_type": "code",
   "execution_count": 6,
   "metadata": {},
   "outputs": [
    {
     "data": {
      "text/plain": [
       "Unnamed: 0       0\n",
       "Reviews         60\n",
       "Rating           0\n",
       "cleanedtext    563\n",
       "dtype: int64"
      ]
     },
     "execution_count": 6,
     "metadata": {},
     "output_type": "execute_result"
    }
   ],
   "source": [
    "df.isnull().sum()"
   ]
  },
  {
   "cell_type": "code",
   "execution_count": 7,
   "metadata": {},
   "outputs": [
    {
     "data": {
      "text/plain": [
       "pandas.core.frame.DataFrame"
      ]
     },
     "execution_count": 7,
     "metadata": {},
     "output_type": "execute_result"
    }
   ],
   "source": [
    "type(df)"
   ]
  },
  {
   "cell_type": "code",
   "execution_count": 8,
   "metadata": {},
   "outputs": [
    {
     "data": {
      "text/plain": [
       "(382075, 4)"
      ]
     },
     "execution_count": 8,
     "metadata": {},
     "output_type": "execute_result"
    }
   ],
   "source": [
    "df.shape"
   ]
  },
  {
   "cell_type": "code",
   "execution_count": 9,
   "metadata": {},
   "outputs": [],
   "source": [
    "df = df[['Reviews','Rating']]"
   ]
  },
  {
   "cell_type": "code",
   "execution_count": 10,
   "metadata": {},
   "outputs": [
    {
     "data": {
      "text/plain": [
       "(382075, 2)"
      ]
     },
     "execution_count": 10,
     "metadata": {},
     "output_type": "execute_result"
    }
   ],
   "source": [
    "df.shape"
   ]
  },
  {
   "cell_type": "code",
   "execution_count": 11,
   "metadata": {},
   "outputs": [
    {
     "data": {
      "text/html": [
       "<div>\n",
       "<style scoped>\n",
       "    .dataframe tbody tr th:only-of-type {\n",
       "        vertical-align: middle;\n",
       "    }\n",
       "\n",
       "    .dataframe tbody tr th {\n",
       "        vertical-align: top;\n",
       "    }\n",
       "\n",
       "    .dataframe thead th {\n",
       "        text-align: right;\n",
       "    }\n",
       "</style>\n",
       "<table border=\"1\" class=\"dataframe\">\n",
       "  <thead>\n",
       "    <tr style=\"text-align: right;\">\n",
       "      <th></th>\n",
       "      <th>Reviews</th>\n",
       "      <th>Rating</th>\n",
       "    </tr>\n",
       "  </thead>\n",
       "  <tbody>\n",
       "    <tr>\n",
       "      <th>0</th>\n",
       "      <td>I feel so LUCKY to have found this used (phone...</td>\n",
       "      <td>5</td>\n",
       "    </tr>\n",
       "    <tr>\n",
       "      <th>1</th>\n",
       "      <td>nice phone, nice up grade from my pantach revu...</td>\n",
       "      <td>4</td>\n",
       "    </tr>\n",
       "    <tr>\n",
       "      <th>2</th>\n",
       "      <td>Very pleased</td>\n",
       "      <td>5</td>\n",
       "    </tr>\n",
       "    <tr>\n",
       "      <th>3</th>\n",
       "      <td>It works good but it goes slow sometimes but i...</td>\n",
       "      <td>4</td>\n",
       "    </tr>\n",
       "    <tr>\n",
       "      <th>4</th>\n",
       "      <td>Great phone to replace my lost phone. The only...</td>\n",
       "      <td>4</td>\n",
       "    </tr>\n",
       "  </tbody>\n",
       "</table>\n",
       "</div>"
      ],
      "text/plain": [
       "                                             Reviews  Rating\n",
       "0  I feel so LUCKY to have found this used (phone...       5\n",
       "1  nice phone, nice up grade from my pantach revu...       4\n",
       "2                                       Very pleased       5\n",
       "3  It works good but it goes slow sometimes but i...       4\n",
       "4  Great phone to replace my lost phone. The only...       4"
      ]
     },
     "execution_count": 11,
     "metadata": {},
     "output_type": "execute_result"
    }
   ],
   "source": [
    "df.head()"
   ]
  },
  {
   "cell_type": "code",
   "execution_count": 12,
   "metadata": {},
   "outputs": [],
   "source": [
    "#we will consider rating 3 as neutral\n",
    "#we will consider all review above 3 as positive and all review below 3 as negative\n",
    "# we wil remove ratings that is neutral"
   ]
  },
  {
   "cell_type": "code",
   "execution_count": 13,
   "metadata": {},
   "outputs": [],
   "source": [
    "df = df[df['Rating']!=3]"
   ]
  },
  {
   "cell_type": "code",
   "execution_count": 14,
   "metadata": {},
   "outputs": [
    {
     "data": {
      "text/plain": [
       "(382075, 2)"
      ]
     },
     "execution_count": 14,
     "metadata": {},
     "output_type": "execute_result"
    }
   ],
   "source": [
    "df.shape"
   ]
  },
  {
   "cell_type": "code",
   "execution_count": 15,
   "metadata": {},
   "outputs": [],
   "source": [
    "def remove_punc(text):\n",
    "    p = set(string.punctuation)\n",
    "    text = text.lower()\n",
    "    words = text.split()\n",
    "    ctext = []\n",
    "    \n",
    "    for i in range(10):\n",
    "        p.add(str(i))\n",
    "    for i in words:\n",
    "        t = ''.join([x for x in i.encode(\"ascii\",\"ignore\").decode(\"ascii\") if x not in p])\n",
    "        ctext.append(t)\n",
    "    return \" \".join([i for i in ctext])\n",
    "\n"
   ]
  },
  {
   "cell_type": "code",
   "execution_count": 17,
   "metadata": {},
   "outputs": [],
   "source": [
    "uncleaned = [i for i in df['Reviews']]\n",
    "cleaned = []\n",
    "\n",
    "for i in uncleaned:\n",
    "    try:\n",
    "        ctxt = remove_punc(i)\n",
    "        if len(ctxt) == 0:\n",
    "            raise()\n",
    "        cleaned.append(ctxt)\n",
    "    except:\n",
    "        cleaned.append(np.nan)\n",
    "df['cleanedtext'] = cleaned\n",
    "df.to_csv(r'Amazon_Unlocked_Mobile.csv')"
   ]
  },
  {
   "cell_type": "code",
   "execution_count": 19,
   "metadata": {},
   "outputs": [
    {
     "data": {
      "text/plain": [
       "Reviews         60\n",
       "Rating           0\n",
       "cleanedtext    563\n",
       "dtype: int64"
      ]
     },
     "execution_count": 19,
     "metadata": {},
     "output_type": "execute_result"
    }
   ],
   "source": [
    "df.isna().sum()"
   ]
  },
  {
   "cell_type": "code",
   "execution_count": 20,
   "metadata": {},
   "outputs": [
    {
     "name": "stdout",
     "output_type": "stream",
     "text": [
      "<class 'pandas.core.frame.DataFrame'>\n",
      "Int64Index: 382075 entries, 0 to 382074\n",
      "Data columns (total 3 columns):\n",
      " #   Column       Non-Null Count   Dtype \n",
      "---  ------       --------------   ----- \n",
      " 0   Reviews      382015 non-null  object\n",
      " 1   Rating       382075 non-null  int64 \n",
      " 2   cleanedtext  381512 non-null  object\n",
      "dtypes: int64(1), object(2)\n",
      "memory usage: 11.7+ MB\n"
     ]
    }
   ],
   "source": [
    "df.info()"
   ]
  },
  {
   "cell_type": "code",
   "execution_count": 21,
   "metadata": {},
   "outputs": [],
   "source": [
    "df.dropna(axis=0, inplace=True)"
   ]
  },
  {
   "cell_type": "code",
   "execution_count": 22,
   "metadata": {},
   "outputs": [
    {
     "name": "stdout",
     "output_type": "stream",
     "text": [
      "<class 'pandas.core.frame.DataFrame'>\n",
      "Int64Index: 381512 entries, 0 to 382074\n",
      "Data columns (total 3 columns):\n",
      " #   Column       Non-Null Count   Dtype \n",
      "---  ------       --------------   ----- \n",
      " 0   Reviews      381512 non-null  object\n",
      " 1   Rating       381512 non-null  int64 \n",
      " 2   cleanedtext  381512 non-null  object\n",
      "dtypes: int64(1), object(2)\n",
      "memory usage: 11.6+ MB\n"
     ]
    }
   ],
   "source": [
    "df.info()"
   ]
  },
  {
   "cell_type": "code",
   "execution_count": 25,
   "metadata": {},
   "outputs": [
    {
     "data": {
      "text/html": [
       "<div>\n",
       "<style scoped>\n",
       "    .dataframe tbody tr th:only-of-type {\n",
       "        vertical-align: middle;\n",
       "    }\n",
       "\n",
       "    .dataframe tbody tr th {\n",
       "        vertical-align: top;\n",
       "    }\n",
       "\n",
       "    .dataframe thead th {\n",
       "        text-align: right;\n",
       "    }\n",
       "</style>\n",
       "<table border=\"1\" class=\"dataframe\">\n",
       "  <thead>\n",
       "    <tr style=\"text-align: right;\">\n",
       "      <th></th>\n",
       "      <th>Reviews</th>\n",
       "      <th>Rating</th>\n",
       "      <th>cleanedtext</th>\n",
       "    </tr>\n",
       "  </thead>\n",
       "  <tbody>\n",
       "    <tr>\n",
       "      <th>0</th>\n",
       "      <td>I feel so LUCKY to have found this used (phone...</td>\n",
       "      <td>5</td>\n",
       "      <td>i feel so lucky to have found this used phone ...</td>\n",
       "    </tr>\n",
       "    <tr>\n",
       "      <th>1</th>\n",
       "      <td>nice phone, nice up grade from my pantach revu...</td>\n",
       "      <td>4</td>\n",
       "      <td>nice phone nice up grade from my pantach revue...</td>\n",
       "    </tr>\n",
       "    <tr>\n",
       "      <th>2</th>\n",
       "      <td>Very pleased</td>\n",
       "      <td>5</td>\n",
       "      <td>very pleased</td>\n",
       "    </tr>\n",
       "    <tr>\n",
       "      <th>3</th>\n",
       "      <td>It works good but it goes slow sometimes but i...</td>\n",
       "      <td>4</td>\n",
       "      <td>it works good but it goes slow sometimes but i...</td>\n",
       "    </tr>\n",
       "    <tr>\n",
       "      <th>4</th>\n",
       "      <td>Great phone to replace my lost phone. The only...</td>\n",
       "      <td>4</td>\n",
       "      <td>great phone to replace my lost phone the only ...</td>\n",
       "    </tr>\n",
       "    <tr>\n",
       "      <th>...</th>\n",
       "      <td>...</td>\n",
       "      <td>...</td>\n",
       "      <td>...</td>\n",
       "    </tr>\n",
       "    <tr>\n",
       "      <th>381507</th>\n",
       "      <td>good rugged phone that has a long-lasting batt...</td>\n",
       "      <td>4</td>\n",
       "      <td>good rugged phone that has a longlasting batte...</td>\n",
       "    </tr>\n",
       "    <tr>\n",
       "      <th>381508</th>\n",
       "      <td>used hard</td>\n",
       "      <td>1</td>\n",
       "      <td>used hard</td>\n",
       "    </tr>\n",
       "    <tr>\n",
       "      <th>381509</th>\n",
       "      <td>another great deal great price</td>\n",
       "      <td>5</td>\n",
       "      <td>another great deal great price</td>\n",
       "    </tr>\n",
       "    <tr>\n",
       "      <th>381510</th>\n",
       "      <td>Passes every drop test onto porcelain tile!</td>\n",
       "      <td>5</td>\n",
       "      <td>passes every drop test onto porcelain tile</td>\n",
       "    </tr>\n",
       "    <tr>\n",
       "      <th>381511</th>\n",
       "      <td>Only downside is that apparently Verizon no lo...</td>\n",
       "      <td>4</td>\n",
       "      <td>only downside is that apparently verizon no lo...</td>\n",
       "    </tr>\n",
       "  </tbody>\n",
       "</table>\n",
       "<p>381512 rows × 3 columns</p>\n",
       "</div>"
      ],
      "text/plain": [
       "                                                  Reviews  Rating  \\\n",
       "0       I feel so LUCKY to have found this used (phone...       5   \n",
       "1       nice phone, nice up grade from my pantach revu...       4   \n",
       "2                                            Very pleased       5   \n",
       "3       It works good but it goes slow sometimes but i...       4   \n",
       "4       Great phone to replace my lost phone. The only...       4   \n",
       "...                                                   ...     ...   \n",
       "381507  good rugged phone that has a long-lasting batt...       4   \n",
       "381508                                          used hard       1   \n",
       "381509                     another great deal great price       5   \n",
       "381510        Passes every drop test onto porcelain tile!       5   \n",
       "381511  Only downside is that apparently Verizon no lo...       4   \n",
       "\n",
       "                                              cleanedtext  \n",
       "0       i feel so lucky to have found this used phone ...  \n",
       "1       nice phone nice up grade from my pantach revue...  \n",
       "2                                            very pleased  \n",
       "3       it works good but it goes slow sometimes but i...  \n",
       "4       great phone to replace my lost phone the only ...  \n",
       "...                                                   ...  \n",
       "381507  good rugged phone that has a longlasting batte...  \n",
       "381508                                          used hard  \n",
       "381509                     another great deal great price  \n",
       "381510         passes every drop test onto porcelain tile  \n",
       "381511  only downside is that apparently verizon no lo...  \n",
       "\n",
       "[381512 rows x 3 columns]"
      ]
     },
     "execution_count": 25,
     "metadata": {},
     "output_type": "execute_result"
    }
   ],
   "source": [
    "df.reset_index(drop=True)"
   ]
  },
  {
   "cell_type": "code",
   "execution_count": 26,
   "metadata": {},
   "outputs": [
    {
     "data": {
      "text/plain": [
       "(381512, 3)"
      ]
     },
     "execution_count": 26,
     "metadata": {},
     "output_type": "execute_result"
    }
   ],
   "source": [
    "df.shape"
   ]
  },
  {
   "cell_type": "code",
   "execution_count": 28,
   "metadata": {},
   "outputs": [],
   "source": [
    "df.to_csv(r'Amazon_Unlocked_Mobile_Data_cleaned.csv')"
   ]
  },
  {
   "cell_type": "code",
   "execution_count": 30,
   "metadata": {},
   "outputs": [],
   "source": [
    "import nltk\n",
    "from nltk.corpus import stopwords"
   ]
  },
  {
   "cell_type": "code",
   "execution_count": 31,
   "metadata": {},
   "outputs": [],
   "source": [
    "stop = set(stopwords.words(\"english\"))\n",
    "stop.remove('no')\n",
    "stop.remove('not')\n",
    "\n",
    "p = []\n",
    "\n",
    "for feedback in df['cleanedtext'].values:\n",
    "    remove = ' '.join([e for e in feedback.split() if e not in stop])\n",
    "    p.append(remove.lower().strip())\n",
    "df['remove_stop'] = p\n",
    "df.to_csv(r'Amazon_Unlocked_Mobile_removed_stopwords.csv')"
   ]
  },
  {
   "cell_type": "code",
   "execution_count": 32,
   "metadata": {},
   "outputs": [
    {
     "data": {
      "text/html": [
       "<div>\n",
       "<style scoped>\n",
       "    .dataframe tbody tr th:only-of-type {\n",
       "        vertical-align: middle;\n",
       "    }\n",
       "\n",
       "    .dataframe tbody tr th {\n",
       "        vertical-align: top;\n",
       "    }\n",
       "\n",
       "    .dataframe thead th {\n",
       "        text-align: right;\n",
       "    }\n",
       "</style>\n",
       "<table border=\"1\" class=\"dataframe\">\n",
       "  <thead>\n",
       "    <tr style=\"text-align: right;\">\n",
       "      <th></th>\n",
       "      <th>Reviews</th>\n",
       "      <th>Rating</th>\n",
       "      <th>cleanedtext</th>\n",
       "      <th>remove_stop</th>\n",
       "    </tr>\n",
       "  </thead>\n",
       "  <tbody>\n",
       "    <tr>\n",
       "      <th>0</th>\n",
       "      <td>I feel so LUCKY to have found this used (phone...</td>\n",
       "      <td>5</td>\n",
       "      <td>i feel so lucky to have found this used phone ...</td>\n",
       "      <td>feel lucky found used phone us not used hard p...</td>\n",
       "    </tr>\n",
       "    <tr>\n",
       "      <th>1</th>\n",
       "      <td>nice phone, nice up grade from my pantach revu...</td>\n",
       "      <td>4</td>\n",
       "      <td>nice phone nice up grade from my pantach revue...</td>\n",
       "      <td>nice phone nice grade pantach revue clean set ...</td>\n",
       "    </tr>\n",
       "    <tr>\n",
       "      <th>2</th>\n",
       "      <td>Very pleased</td>\n",
       "      <td>5</td>\n",
       "      <td>very pleased</td>\n",
       "      <td>pleased</td>\n",
       "    </tr>\n",
       "    <tr>\n",
       "      <th>3</th>\n",
       "      <td>It works good but it goes slow sometimes but i...</td>\n",
       "      <td>4</td>\n",
       "      <td>it works good but it goes slow sometimes but i...</td>\n",
       "      <td>works good goes slow sometimes good phone love</td>\n",
       "    </tr>\n",
       "    <tr>\n",
       "      <th>4</th>\n",
       "      <td>Great phone to replace my lost phone. The only...</td>\n",
       "      <td>4</td>\n",
       "      <td>great phone to replace my lost phone the only ...</td>\n",
       "      <td>great phone replace lost phone thing volume bu...</td>\n",
       "    </tr>\n",
       "    <tr>\n",
       "      <th>...</th>\n",
       "      <td>...</td>\n",
       "      <td>...</td>\n",
       "      <td>...</td>\n",
       "      <td>...</td>\n",
       "    </tr>\n",
       "    <tr>\n",
       "      <th>382070</th>\n",
       "      <td>good rugged phone that has a long-lasting batt...</td>\n",
       "      <td>4</td>\n",
       "      <td>good rugged phone that has a longlasting batte...</td>\n",
       "      <td>good rugged phone longlasting batteryif need s...</td>\n",
       "    </tr>\n",
       "    <tr>\n",
       "      <th>382071</th>\n",
       "      <td>used hard</td>\n",
       "      <td>1</td>\n",
       "      <td>used hard</td>\n",
       "      <td>used hard</td>\n",
       "    </tr>\n",
       "    <tr>\n",
       "      <th>382072</th>\n",
       "      <td>another great deal great price</td>\n",
       "      <td>5</td>\n",
       "      <td>another great deal great price</td>\n",
       "      <td>another great deal great price</td>\n",
       "    </tr>\n",
       "    <tr>\n",
       "      <th>382073</th>\n",
       "      <td>Passes every drop test onto porcelain tile!</td>\n",
       "      <td>5</td>\n",
       "      <td>passes every drop test onto porcelain tile</td>\n",
       "      <td>passes every drop test onto porcelain tile</td>\n",
       "    </tr>\n",
       "    <tr>\n",
       "      <th>382074</th>\n",
       "      <td>Only downside is that apparently Verizon no lo...</td>\n",
       "      <td>4</td>\n",
       "      <td>only downside is that apparently verizon no lo...</td>\n",
       "      <td>downside apparently verizon no longer uses vca...</td>\n",
       "    </tr>\n",
       "  </tbody>\n",
       "</table>\n",
       "<p>381512 rows × 4 columns</p>\n",
       "</div>"
      ],
      "text/plain": [
       "                                                  Reviews  Rating  \\\n",
       "0       I feel so LUCKY to have found this used (phone...       5   \n",
       "1       nice phone, nice up grade from my pantach revu...       4   \n",
       "2                                            Very pleased       5   \n",
       "3       It works good but it goes slow sometimes but i...       4   \n",
       "4       Great phone to replace my lost phone. The only...       4   \n",
       "...                                                   ...     ...   \n",
       "382070  good rugged phone that has a long-lasting batt...       4   \n",
       "382071                                          used hard       1   \n",
       "382072                     another great deal great price       5   \n",
       "382073        Passes every drop test onto porcelain tile!       5   \n",
       "382074  Only downside is that apparently Verizon no lo...       4   \n",
       "\n",
       "                                              cleanedtext  \\\n",
       "0       i feel so lucky to have found this used phone ...   \n",
       "1       nice phone nice up grade from my pantach revue...   \n",
       "2                                            very pleased   \n",
       "3       it works good but it goes slow sometimes but i...   \n",
       "4       great phone to replace my lost phone the only ...   \n",
       "...                                                   ...   \n",
       "382070  good rugged phone that has a longlasting batte...   \n",
       "382071                                          used hard   \n",
       "382072                     another great deal great price   \n",
       "382073         passes every drop test onto porcelain tile   \n",
       "382074  only downside is that apparently verizon no lo...   \n",
       "\n",
       "                                              remove_stop  \n",
       "0       feel lucky found used phone us not used hard p...  \n",
       "1       nice phone nice grade pantach revue clean set ...  \n",
       "2                                                 pleased  \n",
       "3          works good goes slow sometimes good phone love  \n",
       "4       great phone replace lost phone thing volume bu...  \n",
       "...                                                   ...  \n",
       "382070  good rugged phone longlasting batteryif need s...  \n",
       "382071                                          used hard  \n",
       "382072                     another great deal great price  \n",
       "382073         passes every drop test onto porcelain tile  \n",
       "382074  downside apparently verizon no longer uses vca...  \n",
       "\n",
       "[381512 rows x 4 columns]"
      ]
     },
     "execution_count": 32,
     "metadata": {},
     "output_type": "execute_result"
    }
   ],
   "source": [
    "df"
   ]
  }
 ],
 "metadata": {
  "kernelspec": {
   "display_name": "Python 3",
   "language": "python",
   "name": "python3"
  },
  "language_info": {
   "codemirror_mode": {
    "name": "ipython",
    "version": 3
   },
   "file_extension": ".py",
   "mimetype": "text/x-python",
   "name": "python",
   "nbconvert_exporter": "python",
   "pygments_lexer": "ipython3",
   "version": "3.8.3"
  }
 },
 "nbformat": 4,
 "nbformat_minor": 4
}
